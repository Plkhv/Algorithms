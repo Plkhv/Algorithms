{
 "cells": [
  {
   "cell_type": "markdown",
   "metadata": {},
   "source": [
    "## Алгоритмы"
   ]
  },
  {
   "cell_type": "markdown",
   "metadata": {},
   "source": [
    "### 1. Дейкстра\n",
    "Нахождение кратчайшего пути от одной вершины к остальным. Не работает с отрицательными вершинами. Хранит массив дистанций и релаксирует его по мере прохождения по вершинам.\n",
    "Сложность: O(VlogV)"
   ]
  },
  {
   "cell_type": "code",
   "execution_count": 1,
   "metadata": {},
   "outputs": [
    {
     "name": "stdout",
     "output_type": "stream",
     "text": [
      "{'A': 0, 'B': 1, 'C': 3, 'D': 4}\n"
     ]
    }
   ],
   "source": [
    "import heapq\n",
    "\n",
    "def dijkstra(graph, start):\n",
    "    distance = {vertex: float('inf') for vertex in graph}\n",
    "    distance[start] = 0\n",
    "    priority_queue = [(0, start)]  # (расстояние, вершина)\n",
    "\n",
    "    while priority_queue:\n",
    "        current_distance, current_vertex = heapq.heappop(priority_queue)\n",
    "\n",
    "        # Если найден более короткий путь, пропускаем\n",
    "        if current_distance > distance[current_vertex]:\n",
    "            continue\n",
    "\n",
    "        for neighbor, weight in graph[current_vertex]:\n",
    "            distance_to_neighbor = current_distance + weight\n",
    "\n",
    "            if distance_to_neighbor < distance[neighbor]:\n",
    "                distance[neighbor] = distance_to_neighbor\n",
    "                heapq.heappush(priority_queue, (distance_to_neighbor, neighbor))\n",
    "\n",
    "    return distance\n",
    "\n",
    "# Пример использования\n",
    "graph = {\n",
    "    'A': [('B', 1), ('C', 4)],\n",
    "    'B': [('C', 2), ('D', 5)],\n",
    "    'C': [('D', 1)],\n",
    "    'D': []\n",
    "}\n",
    "\n",
    "distances = dijkstra(graph, 'A')\n",
    "print(distances)"
   ]
  },
  {
   "cell_type": "markdown",
   "metadata": {},
   "source": [
    "### 2. Форда-Беллмана\n",
    "Позволяет находить кратчайшие пути от заданной вершины до всех остальных, даже если в графе присутствуют отрицательные веса рёбер\n",
    "\n",
    "Принцип работы:\n",
    "\n",
    "Алгоритм последовательно релаксирует (обновляет) расстояния, проходя по всем рёбрам многократно.\n",
    "\n",
    "**Инициализация:**\n",
    "Как в алгоритме Дейкстры.\n",
    "**Шаги алгоритма:**\n",
    "Повторяем процесс релаксации ребер V−1 раз, где \n",
    "V — количество вершин.\n",
    "Проверяем на наличие отрицательных циклов.\n",
    "\n",
    "Сложность: O(VE)"
   ]
  },
  {
   "cell_type": "code",
   "execution_count": 2,
   "metadata": {},
   "outputs": [
    {
     "name": "stdout",
     "output_type": "stream",
     "text": [
      "{'A': 0, 'B': 4, 'C': 2, 'D': 5}\n"
     ]
    }
   ],
   "source": [
    "def bellman_ford(graph, source):\n",
    "    distance = {vertex: float('inf') for vertex in graph}\n",
    "    distance[source] = 0\n",
    "\n",
    "    for _ in range(len(graph) - 1):\n",
    "        for vertex in graph:\n",
    "            for neighbor, weight in graph[vertex]:\n",
    "                if distance[vertex] + weight < distance[neighbor]:\n",
    "                    distance[neighbor] = distance[vertex] + weight\n",
    "\n",
    "    # Проверка на отрицательные циклы\n",
    "    for vertex in graph:\n",
    "        for neighbor, weight in graph[vertex]:\n",
    "            if distance[vertex] + weight < distance[neighbor]:\n",
    "                raise ValueError(\"Граф содержит отрицательный цикл\")\n",
    "\n",
    "    return distance\n",
    "\n",
    "# Пример использования\n",
    "graph = {\n",
    "    'A': [('B', 4), ('C', 2)],\n",
    "    'B': [('C', -1), ('D', 2)],\n",
    "    'C': [('D', 3)],\n",
    "    'D': []\n",
    "}\n",
    "\n",
    "distances = bellman_ford(graph, 'A')\n",
    "print(distances)"
   ]
  },
  {
   "cell_type": "markdown",
   "metadata": {},
   "source": [
    "### 3. Флойда-Уоршелла\n",
    "\n",
    "Подходит для поиска кратчайших путей между всеми парами вершин. Он работает на основе матрицы расстояний, которая представляет собой квадратную таблицу, где элемент на пересечении строки i и столбца j показывает текущее минимальное расстояние от вершины i до вершины j. Постепенно обновляя значения в этой таблице, алгоритм находит минимальные пути между всеми парами вершин.\n",
    "\n",
    "Принцип работы:\n",
    "\n",
    "Представьте, что вы хотите узнать минимальные расстояния между всеми парами городов в стране.\n",
    "\n",
    "**Инициализация:**\n",
    "Создаём матрицу расстояний между всеми вершинами.\n",
    "\n",
    "**Шаги алгоритма:**\n",
    "Постепенно улучшаем оценки расстояний, рассматривая все возможные промежуточные вершины.\n",
    "\n",
    "Сложность: O(V^3)"
   ]
  },
  {
   "cell_type": "code",
   "execution_count": null,
   "metadata": {},
   "outputs": [],
   "source": [
    "import numpy as np\n",
    "\n",
    "def floyd_warshall(graph):\n",
    "    num_vertices = len(graph)\n",
    "    dist = np.array(graph)\n",
    "\n",
    "    for k in range(num_vertices):\n",
    "        for i in range(num_vertices):\n",
    "            for j in range(num_vertices):\n",
    "                if dist[i][k] + dist[k][j] < dist[i][j]:\n",
    "                    dist[i][j] = dist[i][k] + dist[k][j]\n",
    "\n",
    "    return dist\n",
    "\n",
    "# Пример использования\n",
    "graph = [\n",
    "    [0, 3, float('inf'), 5],\n",
    "    [2, 0, float('inf'), 4],\n",
    "    [float('inf'), 1, 0, float('inf')],\n",
    "    [float('inf'), float('inf'), 2, 0]\n",
    "]\n",
    "\n",
    "shortest_paths = floyd_warshall(graph)\n",
    "print(shortest_paths)"
   ]
  },
  {
   "cell_type": "markdown",
   "metadata": {},
   "source": []
  }
 ],
 "metadata": {
  "kernelspec": {
   "display_name": "Python 3",
   "language": "python",
   "name": "python3"
  },
  "language_info": {
   "codemirror_mode": {
    "name": "ipython",
    "version": 3
   },
   "file_extension": ".py",
   "mimetype": "text/x-python",
   "name": "python",
   "nbconvert_exporter": "python",
   "pygments_lexer": "ipython3",
   "version": "3.12.5"
  }
 },
 "nbformat": 4,
 "nbformat_minor": 2
}
